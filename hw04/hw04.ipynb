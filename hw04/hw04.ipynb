{
 "cells": [
  {
   "cell_type": "markdown",
   "id": "291336ab",
   "metadata": {},
   "source": [
    "# Homework 04: Nonparametric Regression"
   ]
  },
  {
   "cell_type": "code",
   "execution_count": 1,
   "id": "7fcd3775",
   "metadata": {},
   "outputs": [],
   "source": [
    "import numpy as np\n",
    "import pandas as pd\n",
    "import matplotlib.pyplot as plt\n",
    "\n",
    "%matplotlib inline"
   ]
  },
  {
   "cell_type": "markdown",
   "id": "d51b594e",
   "metadata": {},
   "source": [
    "## Importing Data Set"
   ]
  },
  {
   "cell_type": "code",
   "execution_count": 2,
   "id": "99b6f061",
   "metadata": {},
   "outputs": [],
   "source": [
    "data_set = pd.read_csv('hw04_data_set.csv')"
   ]
  },
  {
   "cell_type": "markdown",
   "id": "2f656869",
   "metadata": {},
   "source": [
    "## Train-Test Split"
   ]
  },
  {
   "cell_type": "code",
   "execution_count": 3,
   "id": "01020e1e",
   "metadata": {},
   "outputs": [],
   "source": [
    "train = data_set[:150]\n",
    "test = data_set[150:]"
   ]
  },
  {
   "cell_type": "code",
   "execution_count": 4,
   "id": "0de5afbf",
   "metadata": {},
   "outputs": [],
   "source": [
    "X_train = train['eruptions']\n",
    "y_train = train['waiting']\n",
    "X_test = test['eruptions']\n",
    "y_test = test['waiting']\n",
    "\n",
    "N = data_set.shape[0]"
   ]
  },
  {
   "cell_type": "markdown",
   "id": "282ac354",
   "metadata": {},
   "source": [
    "## Regressogram\n",
    "\n",
    "$\\hat{g}(x) = \\frac{\\sum_{t-1}^Nb(x, x^t)r^t}{\\sum_{t-1}^Nb(x, x^t)}$"
   ]
  },
  {
   "cell_type": "code",
   "execution_count": 5,
   "id": "18699f92",
   "metadata": {},
   "outputs": [],
   "source": [
    "bin_width = 0.37\n",
    "origin = 1.5\n",
    "\n",
    "minimum_value = origin\n",
    "maximum_value = 5.2"
   ]
  },
  {
   "cell_type": "code",
   "execution_count": 6,
   "id": "84c8c53a",
   "metadata": {},
   "outputs": [
    {
     "name": "stdout",
     "output_type": "stream",
     "text": [
      "Left Borders:\n",
      "[1.5  1.87 2.24 2.61 2.98 3.35 3.72 4.09 4.46 4.83]\n",
      "Length of Left Borders: 10\n",
      "\n",
      "Right Borders:\n",
      "[1.87 2.24 2.61 2.98 3.35 3.72 4.09 4.46 4.83 5.2 ]\n",
      "Length of Right Borders: 10\n",
      "\n",
      "g_hat:\n",
      "[53.48, 55.09090909090909, 57.6, 57.25, 75.33333333333333, 78.25, 76.76470588235294, 80.69565217391305, 81.36363636363636, 84.6]\n"
     ]
    }
   ],
   "source": [
    "left_borders = np.arange(minimum_value, maximum_value, bin_width)\n",
    "print(f\"Left Borders:\\n{left_borders}\")\n",
    "print(f\"Length of Left Borders: {len(left_borders)}\\n\")\n",
    "\n",
    "right_borders = np.arange(minimum_value + bin_width, maximum_value + bin_width, bin_width)\n",
    "print(f\"Right Borders:\\n{right_borders}\")\n",
    "print(f\"Length of Right Borders: {len(right_borders)}\\n\")\n",
    "\n",
    "g_hat = [np.sum((left_borders[i] < X_train) & (X_train <= right_borders[i])) * y_train[(left_borders[i] < X_train) & (X_train <= right_borders[i])].mean() / np.sum((left_borders[i] < X_train) & (X_train <= right_borders[i])) for i in range(len(left_borders))]\n",
    "print(f\"g_hat:\\n{g_hat}\")"
   ]
  },
  {
   "cell_type": "markdown",
   "id": "7305ac6d",
   "metadata": {},
   "source": [
    "### Drawing Regressogram"
   ]
  },
  {
   "cell_type": "code",
   "execution_count": 7,
   "id": "6d9ff982",
   "metadata": {},
   "outputs": [
    {
     "data": {
      "image/png": "[encoded data removed]",
      "text/plain": [
       "<Figure size 720x432 with 1 Axes>"
      ]
     },
     "metadata": {
      "needs_background": "light"
     },
     "output_type": "display_data"
    }
   ],
   "source": [
    "plt.figure(figsize=(10, 6))\n",
    "\n",
    "plt.scatter(train['eruptions'], train['waiting'], c='b', label='training')\n",
    "plt.scatter(test['eruptions'], test['waiting'], c='r', label='test')\n",
    "plt.xlabel(\"Eruption time (mm)\")\n",
    "plt.ylabel(\"Waiting time to next eruption (min)\")\n",
    "plt.legend(loc='upper left')\n",
    "\n",
    "for b in range(len(left_borders)):\n",
    "    plt.plot([left_borders[b], right_borders[b]], [g_hat[b], g_hat[b]], \"k-\")\n",
    "for b in range(len(left_borders) - 1):\n",
    "    plt.plot([right_borders[b], right_borders[b]], [g_hat[b], g_hat[b + 1]], \"k-\")    \n",
    "\n",
    "plt.show()"
   ]
  },
  {
   "cell_type": "markdown",
   "id": "8bcfc4e6",
   "metadata": {},
   "source": [
    "## RMSE of Regressogram\n",
    "\n",
    "$\\textrm{RMSE} = \\sqrt{\\frac{\\sum_{i=1}^{N_{test}}{(y_i - \\hat{y}_i)^2}}{N_{test}}}$"
   ]
  },
  {
   "cell_type": "code",
   "execution_count": 8,
   "id": "95f4741a",
   "metadata": {},
   "outputs": [],
   "source": [
    "def calculate_rmse(X_test, y_test, left_borders, right_borders):\n",
    "    total_error = sum([((y_test[(left_borders[i] < X_test) & (X_test <= right_borders[i])] - g_hat[i])**2).sum()\n",
    "                       for i in range(len(left_borders))])\n",
    "    return np.sqrt(total_error / len(X_test))"
   ]
  },
  {
   "cell_type": "code",
   "execution_count": 9,
   "id": "bac307f1",
   "metadata": {},
   "outputs": [],
   "source": [
    "rmse = calculate_rmse(X_test, y_test, left_borders, right_borders)"
   ]
  },
  {
   "cell_type": "code",
   "execution_count": 10,
   "id": "fcc086a5",
   "metadata": {},
   "outputs": [
    {
     "name": "stdout",
     "output_type": "stream",
     "text": [
      "Regressogram => RMSE is 5.962617204275405 when h is 0.37\n"
     ]
    }
   ],
   "source": [
    "print(f\"Regressogram => RMSE is {rmse} when h is {bin_width}\")"
   ]
  },
  {
   "cell_type": "markdown",
   "id": "1b9d6bf9",
   "metadata": {},
   "source": [
    "## Running Mean Smoother\n",
    "\n",
    "$\\hat{g}(x) = \\frac{\\sum_{t-1}^N{w(\\frac{x-x^t}{h})r^t}}{\\sum_{t-1}^N{w(\\frac{x-x^t}{h})}}$\n",
    "\n",
    "\n",
    "\n",
    "$\n",
    "\\begin{equation}\n",
    "  w(u) =\n",
    "  \\begin{cases}\n",
    "    1 & \\text{if |u| < 1} \\\\\n",
    "    0 & \\text{otherwise}\n",
    "  \\end{cases}\n",
    "\\end{equation}\n",
    "$"
   ]
  },
  {
   "cell_type": "code",
   "execution_count": 11,
   "id": "bba35a5a",
   "metadata": {},
   "outputs": [],
   "source": [
    "bin_width = 0.37\n",
    "data_interval = np.linspace(minimum_value, maximum_value, 1601)"
   ]
  },
  {
   "cell_type": "code",
   "execution_count": 12,
   "id": "a82f5406",
   "metadata": {},
   "outputs": [],
   "source": [
    "def w(u):\n",
    "    if np.abs(u) < 1:\n",
    "        return 1\n",
    "    else:\n",
    "        return 0"
   ]
  },
  {
   "cell_type": "code",
   "execution_count": 13,
   "id": "62ccb867",
   "metadata": {},
   "outputs": [],
   "source": [
    "g_hat = [(np.asarray([w(u) for u in (x - X_train) / bin_width]) * y_train).sum() / (np.asarray([w(u) for u in (x - X_train) / bin_width])).sum() for x in data_interval]"
   ]
  },
  {
   "cell_type": "markdown",
   "id": "9ce924e4",
   "metadata": {},
   "source": [
    "### Drawing Running Mean Smoother"
   ]
  },
  {
   "cell_type": "code",
   "execution_count": 14,
   "id": "d708716f",
   "metadata": {},
   "outputs": [
    {
     "data": {
      "image/png": "[encoded data removed]",
      "text/plain": [
       "<Figure size 720x432 with 1 Axes>"
      ]
     },
     "metadata": {
      "needs_background": "light"
     },
     "output_type": "display_data"
    }
   ],
   "source": [
    "plt.figure(figsize=(10, 6))\n",
    "\n",
    "plt.scatter(train['eruptions'], train['waiting'], c='b', label='training')\n",
    "plt.scatter(test['eruptions'], test['waiting'], c='r', label='test')\n",
    "plt.xlabel(\"Eruption time (mm)\")\n",
    "plt.ylabel(\"Waiting time to next eruption (min)\")\n",
    "plt.legend(loc='upper left')\n",
    "\n",
    "plt.plot(data_interval, g_hat, \"k-\")\n",
    "\n",
    "plt.show()"
   ]
  },
  {
   "cell_type": "markdown",
   "id": "9e692cfa",
   "metadata": {},
   "source": [
    "## RMSE of Running Mean Smoother\n",
    "\n",
    "$\\textrm{RMSE} = \\sqrt{\\frac{\\sum_{i=1}^{N_{test}}{(y_i - \\hat{y}_i)^2}}{N_{test}}}$"
   ]
  },
  {
   "cell_type": "code",
   "execution_count": 15,
   "id": "4ab2bdaf",
   "metadata": {},
   "outputs": [],
   "source": [
    "left_borders = data_interval[:-1]\n",
    "right_borders = data_interval[1:]"
   ]
  },
  {
   "cell_type": "code",
   "execution_count": 16,
   "id": "9a9971df",
   "metadata": {},
   "outputs": [],
   "source": [
    "rmse = calculate_rmse(X_test, y_test, left_borders, right_borders)"
   ]
  },
  {
   "cell_type": "code",
   "execution_count": 17,
   "id": "319d8069",
   "metadata": {},
   "outputs": [
    {
     "name": "stdout",
     "output_type": "stream",
     "text": [
      "Running Mean Smoother => RMSE is 5.9587977786114354 when h is 0.37\n"
     ]
    }
   ],
   "source": [
    "print(f\"Running Mean Smoother => RMSE is {rmse} when h is {bin_width}\")"
   ]
  },
  {
   "cell_type": "markdown",
   "id": "75356e3b",
   "metadata": {},
   "source": [
    "## Kernel Smoother\n",
    "\n",
    "$\\hat{g}(x) = \\frac{\\sum_t{K(\\frac{x-x^t}{h})r^t}}{\\sum_t{K(\\frac{x-x^t}{h})}}$\n",
    "\n",
    "$K(u) = \\frac{1}{\\sqrt{2\\pi}}\\exp{\\left[-\\frac{u^2}{2}\\right]}$"
   ]
  },
  {
   "cell_type": "code",
   "execution_count": 18,
   "id": "3c5be13f",
   "metadata": {},
   "outputs": [],
   "source": [
    "bin_width = 0.37\n",
    "data_interval = np.linspace(minimum_value, maximum_value, 1601)"
   ]
  },
  {
   "cell_type": "code",
   "execution_count": 19,
   "id": "44dc6669",
   "metadata": {},
   "outputs": [],
   "source": [
    "def K(u):\n",
    "    return 1/np.sqrt(2*np.pi) * np.exp(-(u**2)/2)"
   ]
  },
  {
   "cell_type": "code",
   "execution_count": 20,
   "id": "4d73d043",
   "metadata": {},
   "outputs": [],
   "source": [
    "g_hat = [(np.asarray([K(u) for u in (x - X_train) / bin_width]) * y_train).sum() / (np.asarray([K(u) for u in (x - X_train) / bin_width])).sum() for x in data_interval]"
   ]
  },
  {
   "cell_type": "markdown",
   "id": "42c0d335",
   "metadata": {},
   "source": [
    "### Drawing Kernel Smoother"
   ]
  },
  {
   "cell_type": "code",
   "execution_count": 21,
   "id": "696e0cdc",
   "metadata": {},
   "outputs": [
    {
     "data": {
      "image/png": "[encoded data removed]",
      "text/plain": [
       "<Figure size 720x432 with 1 Axes>"
      ]
     },
     "metadata": {
      "needs_background": "light"
     },
     "output_type": "display_data"
    }
   ],
   "source": [
    "plt.figure(figsize=(10, 6))\n",
    "\n",
    "plt.scatter(train['eruptions'], train['waiting'], c='b', label='training')\n",
    "plt.scatter(test['eruptions'], test['waiting'], c='r', label='test')\n",
    "plt.xlabel(\"Eruption time (mm)\")\n",
    "plt.ylabel(\"Waiting time to next eruption (min)\")\n",
    "plt.legend(loc='upper left')\n",
    "\n",
    "plt.plot(data_interval, g_hat, \"k-\")\n",
    "\n",
    "plt.show()"
   ]
  },
  {
   "cell_type": "markdown",
   "id": "17a79c8f",
   "metadata": {},
   "source": [
    "## RMSE of Kernel Smoother\n",
    "\n",
    "$\\textrm{RMSE} = \\sqrt{\\frac{\\sum_{i=1}^{N_{test}}{(y_i - \\hat{y}_i)^2}}{N_{test}}}$"
   ]
  },
  {
   "cell_type": "code",
   "execution_count": 22,
   "id": "6bd82c74",
   "metadata": {},
   "outputs": [],
   "source": [
    "left_borders = data_interval[:-1]\n",
    "right_borders = data_interval[1:]"
   ]
  },
  {
   "cell_type": "code",
   "execution_count": 23,
   "id": "c64e9647",
   "metadata": {},
   "outputs": [],
   "source": [
    "rmse = calculate_rmse(X_test, y_test, left_borders, right_borders)"
   ]
  },
  {
   "cell_type": "code",
   "execution_count": 24,
   "id": "4cec3eab",
   "metadata": {},
   "outputs": [
    {
     "name": "stdout",
     "output_type": "stream",
     "text": [
      "Kernel Smoother => RMSE is 5.874042666597442 when h is 0.37\n"
     ]
    }
   ],
   "source": [
    "print(f\"Kernel Smoother => RMSE is {rmse} when h is {bin_width}\")"
   ]
  }
 ],
 "metadata": {
  "kernelspec": {
   "display_name": "Python 3",
   "language": "python",
   "name": "python3"
  },
  "language_info": {
   "codemirror_mode": {
    "name": "ipython",
    "version": 3
   },
   "file_extension": ".py",
   "mimetype": "text/x-python",
   "name": "python",
   "nbconvert_exporter": "python",
   "pygments_lexer": "ipython3",
   "version": "3.8.8"
  }
 },
 "nbformat": 4,
 "nbformat_minor": 5
}

{
 "cells": [
  {
   "cell_type": "markdown",
   "id": "466c270e",
   "metadata": {},
   "source": [
    "# Homework 02: Naïve Bayes Classifier"
   ]
  },
  {
   "cell_type": "code",
   "execution_count": 1,
   "id": "724e6940",
   "metadata": {},
   "outputs": [],
   "source": [
    "import numpy as np\n",
    "import pandas as pd"
   ]
  },
  {
   "cell_type": "markdown",
   "id": "6fac66a5",
   "metadata": {},
   "source": [
    "## Importing Data"
   ]
  },
  {
   "cell_type": "code",
   "execution_count": 2,
   "id": "99954e0c",
   "metadata": {},
   "outputs": [],
   "source": [
    "images = pd.read_csv('hw02_images.csv', header=None)\n",
    "labels = pd.read_csv('hw02_labels.csv', header=None)\n",
    "labels = labels.rename({0: 'Label'}, axis=1)"
   ]
  },
  {
   "cell_type": "markdown",
   "id": "d5c8e747",
   "metadata": {},
   "source": [
    "## Combining Data"
   ]
  },
  {
   "cell_type": "code",
   "execution_count": 3,
   "id": "d257e6d4",
   "metadata": {},
   "outputs": [],
   "source": [
    "data = pd.concat([images, labels], axis=1)"
   ]
  },
  {
   "cell_type": "code",
   "execution_count": 4,
   "id": "25311a1d",
   "metadata": {},
   "outputs": [
    {
     "data": {
      "text/html": [
       "<div>\n",
       "<style scoped>\n",
       "    .dataframe tbody tr th:only-of-type {\n",
       "        vertical-align: middle;\n",
       "    }\n",
       "\n",
       "    .dataframe tbody tr th {\n",
       "        vertical-align: top;\n",
       "    }\n",
       "\n",
       "    .dataframe thead th {\n",
       "        text-align: right;\n",
       "    }\n",
       "</style>\n",
       "<table border=\"1\" class=\"dataframe\">\n",
       "  <thead>\n",
       "    <tr style=\"text-align: right;\">\n",
       "      <th></th>\n",
       "      <th>0</th>\n",
       "      <th>1</th>\n",
       "      <th>2</th>\n",
       "      <th>3</th>\n",
       "      <th>4</th>\n",
       "      <th>5</th>\n",
       "      <th>6</th>\n",
       "      <th>7</th>\n",
       "      <th>8</th>\n",
       "      <th>9</th>\n",
       "      <th>...</th>\n",
       "      <th>775</th>\n",
       "      <th>776</th>\n",
       "      <th>777</th>\n",
       "      <th>778</th>\n",
       "      <th>779</th>\n",
       "      <th>780</th>\n",
       "      <th>781</th>\n",
       "      <th>782</th>\n",
       "      <th>783</th>\n",
       "      <th>Label</th>\n",
       "    </tr>\n",
       "  </thead>\n",
       "  <tbody>\n",
       "    <tr>\n",
       "      <th>0</th>\n",
       "      <td>255</td>\n",
       "      <td>255</td>\n",
       "      <td>255</td>\n",
       "      <td>255</td>\n",
       "      <td>255</td>\n",
       "      <td>255</td>\n",
       "      <td>255</td>\n",
       "      <td>250</td>\n",
       "      <td>255</td>\n",
       "      <td>255</td>\n",
       "      <td>...</td>\n",
       "      <td>255</td>\n",
       "      <td>255</td>\n",
       "      <td>225</td>\n",
       "      <td>212</td>\n",
       "      <td>255</td>\n",
       "      <td>255</td>\n",
       "      <td>255</td>\n",
       "      <td>255</td>\n",
       "      <td>255</td>\n",
       "      <td>4</td>\n",
       "    </tr>\n",
       "    <tr>\n",
       "      <th>1</th>\n",
       "      <td>255</td>\n",
       "      <td>255</td>\n",
       "      <td>255</td>\n",
       "      <td>254</td>\n",
       "      <td>253</td>\n",
       "      <td>255</td>\n",
       "      <td>255</td>\n",
       "      <td>255</td>\n",
       "      <td>255</td>\n",
       "      <td>255</td>\n",
       "      <td>...</td>\n",
       "      <td>255</td>\n",
       "      <td>255</td>\n",
       "      <td>255</td>\n",
       "      <td>255</td>\n",
       "      <td>254</td>\n",
       "      <td>255</td>\n",
       "      <td>255</td>\n",
       "      <td>255</td>\n",
       "      <td>255</td>\n",
       "      <td>1</td>\n",
       "    </tr>\n",
       "    <tr>\n",
       "      <th>2</th>\n",
       "      <td>255</td>\n",
       "      <td>255</td>\n",
       "      <td>255</td>\n",
       "      <td>255</td>\n",
       "      <td>255</td>\n",
       "      <td>255</td>\n",
       "      <td>255</td>\n",
       "      <td>255</td>\n",
       "      <td>255</td>\n",
       "      <td>255</td>\n",
       "      <td>...</td>\n",
       "      <td>255</td>\n",
       "      <td>255</td>\n",
       "      <td>255</td>\n",
       "      <td>255</td>\n",
       "      <td>255</td>\n",
       "      <td>255</td>\n",
       "      <td>255</td>\n",
       "      <td>255</td>\n",
       "      <td>255</td>\n",
       "      <td>2</td>\n",
       "    </tr>\n",
       "    <tr>\n",
       "      <th>3</th>\n",
       "      <td>255</td>\n",
       "      <td>255</td>\n",
       "      <td>255</td>\n",
       "      <td>250</td>\n",
       "      <td>251</td>\n",
       "      <td>250</td>\n",
       "      <td>250</td>\n",
       "      <td>252</td>\n",
       "      <td>250</td>\n",
       "      <td>249</td>\n",
       "      <td>...</td>\n",
       "      <td>247</td>\n",
       "      <td>248</td>\n",
       "      <td>251</td>\n",
       "      <td>252</td>\n",
       "      <td>248</td>\n",
       "      <td>250</td>\n",
       "      <td>255</td>\n",
       "      <td>255</td>\n",
       "      <td>255</td>\n",
       "      <td>3</td>\n",
       "    </tr>\n",
       "    <tr>\n",
       "      <th>4</th>\n",
       "      <td>255</td>\n",
       "      <td>255</td>\n",
       "      <td>255</td>\n",
       "      <td>255</td>\n",
       "      <td>255</td>\n",
       "      <td>255</td>\n",
       "      <td>255</td>\n",
       "      <td>255</td>\n",
       "      <td>255</td>\n",
       "      <td>255</td>\n",
       "      <td>...</td>\n",
       "      <td>255</td>\n",
       "      <td>255</td>\n",
       "      <td>255</td>\n",
       "      <td>255</td>\n",
       "      <td>255</td>\n",
       "      <td>255</td>\n",
       "      <td>255</td>\n",
       "      <td>255</td>\n",
       "      <td>255</td>\n",
       "      <td>3</td>\n",
       "    </tr>\n",
       "  </tbody>\n",
       "</table>\n",
       "<p>5 rows × 785 columns</p>\n",
       "</div>"
      ],
      "text/plain": [
       "     0    1    2    3    4    5    6    7    8    9  ...  775  776  777  778  \\\n",
       "0  255  255  255  255  255  255  255  250  255  255  ...  255  255  225  212   \n",
       "1  255  255  255  254  253  255  255  255  255  255  ...  255  255  255  255   \n",
       "2  255  255  255  255  255  255  255  255  255  255  ...  255  255  255  255   \n",
       "3  255  255  255  250  251  250  250  252  250  249  ...  247  248  251  252   \n",
       "4  255  255  255  255  255  255  255  255  255  255  ...  255  255  255  255   \n",
       "\n",
       "   779  780  781  782  783  Label  \n",
       "0  255  255  255  255  255      4  \n",
       "1  254  255  255  255  255      1  \n",
       "2  255  255  255  255  255      2  \n",
       "3  248  250  255  255  255      3  \n",
       "4  255  255  255  255  255      3  \n",
       "\n",
       "[5 rows x 785 columns]"
      ]
     },
     "execution_count": 4,
     "metadata": {},
     "output_type": "execute_result"
    }
   ],
   "source": [
    "data.head()"
   ]
  },
  {
   "cell_type": "code",
   "execution_count": 5,
   "id": "a7f86dd6",
   "metadata": {},
   "outputs": [
    {
     "data": {
      "text/plain": [
       "(35000, 785)"
      ]
     },
     "execution_count": 5,
     "metadata": {},
     "output_type": "execute_result"
    }
   ],
   "source": [
    "data.shape"
   ]
  },
  {
   "cell_type": "code",
   "execution_count": 6,
   "id": "904aab67",
   "metadata": {},
   "outputs": [
    {
     "data": {
      "text/plain": [
       "5"
      ]
     },
     "execution_count": 6,
     "metadata": {},
     "output_type": "execute_result"
    }
   ],
   "source": [
    "data['Label'].nunique()"
   ]
  },
  {
   "cell_type": "code",
   "execution_count": 7,
   "id": "b6e162ad",
   "metadata": {},
   "outputs": [
    {
     "data": {
      "text/plain": [
       "[1, 2, 3, 4, 5]"
      ]
     },
     "execution_count": 7,
     "metadata": {},
     "output_type": "execute_result"
    }
   ],
   "source": [
    "sorted(data['Label'].unique())"
   ]
  },
  {
   "cell_type": "markdown",
   "id": "7d315798",
   "metadata": {},
   "source": [
    "### Labels/Classes:\n",
    "\n",
    "- **1**: T-shirt\n",
    "- **2**: Dress\n",
    "- **3**: Coat\n",
    "- **4**: Shirt\n",
    "- **5**: Bag"
   ]
  },
  {
   "cell_type": "markdown",
   "id": "d0c928ff",
   "metadata": {},
   "source": [
    "## Train-Test Split"
   ]
  },
  {
   "cell_type": "code",
   "execution_count": 8,
   "id": "eb9916f0",
   "metadata": {},
   "outputs": [],
   "source": [
    "train = data.iloc[:30000,:]\n",
    "test = data.iloc[30000:,:]"
   ]
  },
  {
   "cell_type": "code",
   "execution_count": 9,
   "id": "43db9ff7",
   "metadata": {},
   "outputs": [],
   "source": [
    "X_train = train.drop('Label', axis=1)\n",
    "X_test = test.drop('Label', axis=1)\n",
    "\n",
    "y_train = train['Label']\n",
    "y_test = test['Label']"
   ]
  },
  {
   "cell_type": "code",
   "execution_count": 10,
   "id": "e37d8e11",
   "metadata": {},
   "outputs": [
    {
     "name": "stdout",
     "output_type": "stream",
     "text": [
      "Train set shape: (30000, 785)\n",
      "Test set shape: (5000, 785)\n",
      "X_train shape: (30000, 784)\n",
      "X_test shape: (5000, 784)\n",
      "y_train shape: (30000,)\n",
      "y_test shape: (5000,)\n"
     ]
    }
   ],
   "source": [
    "print(f\"Train set shape: {train.shape}\")\n",
    "print(f\"Test set shape: {test.shape}\")\n",
    "print(f\"X_train shape: {X_train.shape}\")\n",
    "print(f\"X_test shape: {X_test.shape}\")\n",
    "print(f\"y_train shape: {y_train.shape}\")\n",
    "print(f\"y_test shape: {y_test.shape}\")"
   ]
  },
  {
   "cell_type": "markdown",
   "id": "017b3bbf",
   "metadata": {},
   "source": [
    "## Estimating the Parameters"
   ]
  },
  {
   "cell_type": "code",
   "execution_count": 11,
   "id": "7f11a785",
   "metadata": {},
   "outputs": [],
   "source": [
    "X_1 = train[train['Label'] == 1].drop('Label', axis=1)\n",
    "X_2 = train[train['Label'] == 2].drop('Label', axis=1)\n",
    "X_3 = train[train['Label'] == 3].drop('Label', axis=1)\n",
    "X_4 = train[train['Label'] == 4].drop('Label', axis=1)\n",
    "X_5 = train[train['Label'] == 5].drop('Label', axis=1)\n",
    "\n",
    "Xs = [X_1, X_2, X_3, X_4, X_5]"
   ]
  },
  {
   "cell_type": "markdown",
   "id": "d863d433",
   "metadata": {},
   "source": [
    "### Sample Mean \n",
    "\n",
    "**Sample mean**: $m =\\frac{\\sum_{t}x^t}{N}$"
   ]
  },
  {
   "cell_type": "code",
   "execution_count": 12,
   "id": "008ddcf2",
   "metadata": {},
   "outputs": [],
   "source": [
    "def estimate_sample_mean(X):\n",
    "    return [np.sum(X.iloc[:, i]) / X.shape[0] for i in range(X.shape[1])]"
   ]
  },
  {
   "cell_type": "code",
   "execution_count": 13,
   "id": "b5832c94",
   "metadata": {},
   "outputs": [
    {
     "name": "stdout",
     "output_type": "stream",
     "text": [
      "[[254.99866667 254.98416667 254.85616667 ... 254.679      254.87816667\n",
      "  254.95933333]\n",
      " [254.99733333 254.99733333 254.9965     ... 254.96883333 254.99216667\n",
      "  254.98866667]\n",
      " [254.99933333 254.99933333 254.99233333 ... 251.52483333 254.4725\n",
      "  254.97483333]\n",
      " [254.99666667 254.98983333 254.91416667 ... 252.39516667 254.44166667\n",
      "  254.93666667]\n",
      " [254.999      254.98433333 254.93783333 ... 250.673      253.23333333\n",
      "  254.79083333]]\n"
     ]
    }
   ],
   "source": [
    "sample_means = np.array([estimate_sample_mean(X) for X in Xs])\n",
    "print(sample_means)"
   ]
  },
  {
   "cell_type": "markdown",
   "id": "6bd443d5",
   "metadata": {},
   "source": [
    "### Standard Deviation\n",
    "\n",
    "**Variance**: $\\;\\;\\;\\;\\;\\;\\;\\;\\;\\;\\;\\;\\;\\;\\;\\;\\; s^2 = \\frac{\\sum_t{(x^t-m)^2}}{N}$\n",
    "\n",
    "**Standard Deviation**: $\\;\\;\\; s = \\sqrt{\\frac{\\sum_t{(x^t-m)^2}}{N}} $"
   ]
  },
  {
   "cell_type": "code",
   "execution_count": 14,
   "id": "d6e87966",
   "metadata": {},
   "outputs": [],
   "source": [
    "def estimate_standard_deviation(X, sample_mean):\n",
    "    return [np.sqrt(np.sum((X.iloc[:, i] - sample_mean[i])**2)/X.shape[0]) for i in range(X.shape[1])]"
   ]
  },
  {
   "cell_type": "code",
   "execution_count": 15,
   "id": "7c878eea",
   "metadata": {},
   "outputs": [
    {
     "name": "stdout",
     "output_type": "stream",
     "text": [
      "[[ 0.09127736  0.25609108  1.31090756 ...  5.29826629  3.9117332\n",
      "   1.93959091]\n",
      " [ 0.2065419   0.2065419   0.2163818  ...  1.04076669  0.47057267\n",
      "   0.70062226]\n",
      " [ 0.05163547  0.04081939  0.16002465 ... 18.43665868  6.7881694\n",
      "   1.1061344 ]\n",
      " [ 0.18436076  0.21617116  1.81046936 ... 15.67799977  6.34549162\n",
      "   1.79971911]\n",
      " [ 0.04471018  0.64582342  3.03248555 ... 23.62576428 13.9167006\n",
      "   4.4727787 ]]\n"
     ]
    }
   ],
   "source": [
    "sample_deviations = np.array([estimate_standard_deviation(X, sample_mean) for X, sample_mean in zip(Xs, sample_means)])\n",
    "print(sample_deviations)"
   ]
  },
  {
   "cell_type": "markdown",
   "id": "6b8a3d8c",
   "metadata": {},
   "source": [
    "### Prior Probabilities\n",
    "\n",
    "**Prior Probability**: $\\hat{P}(C_i) = \\frac{\\sum_t{r_i^t}}{N}$"
   ]
  },
  {
   "cell_type": "code",
   "execution_count": 16,
   "id": "cd985dac",
   "metadata": {},
   "outputs": [],
   "source": [
    "def prior_probability(X, all_X):\n",
    "    return X.shape[0] / all_X.shape[0]"
   ]
  },
  {
   "cell_type": "code",
   "execution_count": 17,
   "id": "8fdb19ae",
   "metadata": {},
   "outputs": [
    {
     "name": "stdout",
     "output_type": "stream",
     "text": [
      "[0.2, 0.2, 0.2, 0.2, 0.2]\n"
     ]
    }
   ],
   "source": [
    "class_priors = [prior_probability(X, train) for X in Xs]\n",
    "print(class_priors)"
   ]
  },
  {
   "cell_type": "markdown",
   "id": "ea2d7981",
   "metadata": {},
   "source": [
    "## Naïve Bayes Classifier\n",
    "\n",
    "### Alpaydin, E., Introduction to Machine Learning, Section 4.2.3: Gaussian (Normal) Density\n",
    "\n",
    "**Log likelihood of Gaussian (Normal) Density:** $\\;\\;\\;\\;\\;\\; L(\\mu, \\sigma | X) = -\\frac{N}{2}\\log{(2\\pi)} - N\\log{\\sigma} - \\frac{\\sum_t{(x^t-\\mu)^2}}{2\\sigma^2}$\n",
    "\n",
    "$\\newline\\newline$\n",
    "\n",
    "### Alpaydin, E., Introduction to Machine Learning, Section 4.5: Parametric Classification\n",
    "\n",
    "**Discriminant Function:**\n",
    "\n",
    "$\\;\\;\\;\\;\\;\\;\\;\\;\\;\\;\\;\\;\\;\\;\\;\\;\\;\\;\\;\\;\\;\\;\\;\\;\\;\\;\\;\\;\\;\\;\\;\\;\\;\\;\\;\\;\\;\\;\\;\\;\\;\\;\\;\\;\\;\\;\\;\\;\\;\\;\\;\\;\\;\\;\\;\\;\\;\\;\\;\\;\\;\\;\\;\\;\\;\\;\\; g_i(x) = p(x|C_i)P(C_i)$\n",
    "\n",
    "$\\;\\;\\;\\;\\;\\;\\;\\;\\;\\;\\;\\;\\;\\;\\;\\;\\;\\;\\;\\;\\;\\;\\;\\;\\;\\;\\;\\;\\;\\;\\;\\;\\;\\;\\;\\;\\;\\;\\;\\;\\;\\;\\;\\;\\;\\;\\;\\;\\;\\;\\;\\;\\;\\;\\;\\;\\;\\;\\;\\;\\;\\;\\;\\;\\;\\;\\;$or\n",
    "\n",
    "$\\;\\;\\;\\;\\;\\;\\;\\;\\;\\;\\;\\;\\;\\;\\;\\;\\;\\;\\;\\;\\;\\;\\;\\;\\;\\;\\;\\;\\;\\;\\;\\;\\;\\;\\;\\;\\;\\;\\;\\;\\;\\;\\;\\;\\;\\;\\;\\;\\;\\;\\;\\;\\;\\;\\;\\;\\;\\;\\;\\;\\;\\;\\;\\;\\;\\;\\; g_i(x) = \\log{p(x|C_i)} + \\log{P(C_i)}$\n",
    "\n",
    "$\\;\\;\\;\\;\\;\\;\\;\\;\\;\\;\\;\\;\\;\\;\\;\\;\\;\\;\\;\\;\\;\\;\\;\\;\\;\\;\\;\\;\\;\\;\\;\\;\\;\\;\\;\\;\\;\\;\\;\\;\\;\\;\\;\\;\\;\\;\\;\\;\\;\\;\\;\\;\\;\\;\\;$ where $\\;\\;\\; p(\\textbf{x}|C_i) = \\frac{1}{\\sqrt{2\\pi\\sigma^2}}\\exp{\\left[-\\frac{(x-\\mu_i)^2}{2\\sigma_i^2}\\right]} $\n",
    "\n",
    "$\\newline\\newline$\n",
    "\n",
    "**Parametric Classification:** $\\;\\;\\;\\;\\;\\;\\;\\;\\;\\;\\;\\;\\;\\;\\;\\;\\;\\;\\;\\;\\;\\;\\;\\;\\;\\;\\;\\;\\;\\;\\;\\; g_i(\\textbf{x}) = -\\frac{1}{2}\\log{2\\pi} - \\log{\\sigma_i}-\\frac{(x-\\mu_i)^2}{2\\sigma_i^2} + \\log{P(C_i)}$\n",
    "\n",
    "Plugging the estimates for the **means** $\\left(m =\\frac{\\sum_{t}x^t}{N}\\right)$, **variance** $\\left(s^2 = \\frac{\\sum_t{(x^t-m)^2}}{N}\\right)$, and **priors** $\\left(\\hat{P}(C_i) = \\frac{\\sum_t{r_i^t}}{N}\\right)$, we get:\n",
    "\n",
    "$\\;\\;\\;\\;\\;\\;\\;\\;\\;\\;\\;\\;\\;\\;\\;\\;\\;\\;\\;\\;\\;\\;\\;\\;\\;\\;\\;\\;\\;\\;\\;\\;\\;\\;\\;\\;\\;\\;\\;\\;\\;\\;\\;\\;\\;\\;\\;\\;\\;\\;\\;\\;\\;\\;\\;\\;\\;\\;\\;\\;\\;\\;\\;\\;\\;\\;\\; g_i(\\textbf{x}) = -\\frac{1}{2}\\log{2\\pi} - \\log{s_i}-\\frac{(x-m_i)^2}{2s_i^2} + \\log{\\hat{P}(C_i)}$"
   ]
  },
  {
   "cell_type": "code",
   "execution_count": 18,
   "id": "80dd203b",
   "metadata": {},
   "outputs": [],
   "source": [
    "def discriminant_function(x, sample_mean, sample_deviation, class_prior):\n",
    "    return np.sum((-1/2 * np.log(2*np.pi))\n",
    "                  - (np.log(sample_deviation)) - ((x - sample_mean)**2) / (2 * sample_deviation**2)\n",
    "                  + np.log(class_prior))"
   ]
  },
  {
   "cell_type": "markdown",
   "id": "3fe833c3",
   "metadata": {},
   "source": [
    "## Classification Algorithm\n",
    "\n",
    "Calculate scores of x's in the training set for each class. Pick the class with the highest score."
   ]
  },
  {
   "cell_type": "code",
   "execution_count": 19,
   "id": "b1bddd07",
   "metadata": {},
   "outputs": [],
   "source": [
    "def predict(x):\n",
    "    \n",
    "    scores = []\n",
    "    \n",
    "    for i in range(5):\n",
    "        scores.append(discriminant_function(x, sample_means[i], sample_deviations[i], class_priors[i]))\n",
    "        \n",
    "    scores = pd.Series(scores)\n",
    "    return scores[scores == np.max(scores)].index[0] + 1"
   ]
  },
  {
   "cell_type": "markdown",
   "id": "69270d9d",
   "metadata": {},
   "source": [
    "### Predictions"
   ]
  },
  {
   "cell_type": "code",
   "execution_count": 20,
   "id": "21904cf6",
   "metadata": {},
   "outputs": [],
   "source": [
    "y_pred_train = np.array([predict(X_train.iloc[i, :]) for i in range(X_train.shape[0])])\n",
    "y_pred_test = np.array([predict(X_test.iloc[i, :]) for i in range(X_test.shape[0])])"
   ]
  },
  {
   "cell_type": "markdown",
   "id": "7136c7f0",
   "metadata": {},
   "source": [
    "## Calculating Confusion Matrix\n",
    "### Train Set"
   ]
  },
  {
   "cell_type": "code",
   "execution_count": 21,
   "id": "f3165008",
   "metadata": {},
   "outputs": [
    {
     "name": "stdout",
     "output_type": "stream",
     "text": [
      "Confusion Matrix - Training Set:\n"
     ]
    },
    {
     "data": {
      "text/html": [
       "<div>\n",
       "<style scoped>\n",
       "    .dataframe tbody tr th:only-of-type {\n",
       "        vertical-align: middle;\n",
       "    }\n",
       "\n",
       "    .dataframe tbody tr th {\n",
       "        vertical-align: top;\n",
       "    }\n",
       "\n",
       "    .dataframe thead th {\n",
       "        text-align: right;\n",
       "    }\n",
       "</style>\n",
       "<table border=\"1\" class=\"dataframe\">\n",
       "  <thead>\n",
       "    <tr style=\"text-align: right;\">\n",
       "      <th>y_truth</th>\n",
       "      <th>1</th>\n",
       "      <th>2</th>\n",
       "      <th>3</th>\n",
       "      <th>4</th>\n",
       "      <th>5</th>\n",
       "    </tr>\n",
       "    <tr>\n",
       "      <th>y_pred</th>\n",
       "      <th></th>\n",
       "      <th></th>\n",
       "      <th></th>\n",
       "      <th></th>\n",
       "      <th></th>\n",
       "    </tr>\n",
       "  </thead>\n",
       "  <tbody>\n",
       "    <tr>\n",
       "      <th>1</th>\n",
       "      <td>3685</td>\n",
       "      <td>49</td>\n",
       "      <td>4</td>\n",
       "      <td>679</td>\n",
       "      <td>6</td>\n",
       "    </tr>\n",
       "    <tr>\n",
       "      <th>2</th>\n",
       "      <td>1430</td>\n",
       "      <td>5667</td>\n",
       "      <td>1140</td>\n",
       "      <td>1380</td>\n",
       "      <td>532</td>\n",
       "    </tr>\n",
       "    <tr>\n",
       "      <th>3</th>\n",
       "      <td>508</td>\n",
       "      <td>208</td>\n",
       "      <td>4670</td>\n",
       "      <td>2948</td>\n",
       "      <td>893</td>\n",
       "    </tr>\n",
       "    <tr>\n",
       "      <th>4</th>\n",
       "      <td>234</td>\n",
       "      <td>60</td>\n",
       "      <td>123</td>\n",
       "      <td>687</td>\n",
       "      <td>180</td>\n",
       "    </tr>\n",
       "    <tr>\n",
       "      <th>5</th>\n",
       "      <td>143</td>\n",
       "      <td>16</td>\n",
       "      <td>63</td>\n",
       "      <td>306</td>\n",
       "      <td>4389</td>\n",
       "    </tr>\n",
       "  </tbody>\n",
       "</table>\n",
       "</div>"
      ],
      "text/plain": [
       "y_truth     1     2     3     4     5\n",
       "y_pred                               \n",
       "1        3685    49     4   679     6\n",
       "2        1430  5667  1140  1380   532\n",
       "3         508   208  4670  2948   893\n",
       "4         234    60   123   687   180\n",
       "5         143    16    63   306  4389"
      ]
     },
     "metadata": {},
     "output_type": "display_data"
    }
   ],
   "source": [
    "confusion_matrix_train = pd.crosstab(y_pred_train, y_train, rownames = [\"y_pred\"], colnames = [\"y_truth\"])\n",
    "\n",
    "print(\"Confusion Matrix - Training Set:\")\n",
    "display(confusion_matrix_train)"
   ]
  },
  {
   "cell_type": "markdown",
   "id": "cd55d2dd",
   "metadata": {},
   "source": [
    "### Test Set"
   ]
  },
  {
   "cell_type": "code",
   "execution_count": 22,
   "id": "67dcb1db",
   "metadata": {},
   "outputs": [
    {
     "name": "stdout",
     "output_type": "stream",
     "text": [
      "Confusion Matrix - Test Set:\n"
     ]
    },
    {
     "data": {
      "text/html": [
       "<div>\n",
       "<style scoped>\n",
       "    .dataframe tbody tr th:only-of-type {\n",
       "        vertical-align: middle;\n",
       "    }\n",
       "\n",
       "    .dataframe tbody tr th {\n",
       "        vertical-align: top;\n",
       "    }\n",
       "\n",
       "    .dataframe thead th {\n",
       "        text-align: right;\n",
       "    }\n",
       "</style>\n",
       "<table border=\"1\" class=\"dataframe\">\n",
       "  <thead>\n",
       "    <tr style=\"text-align: right;\">\n",
       "      <th>y_truth</th>\n",
       "      <th>1</th>\n",
       "      <th>2</th>\n",
       "      <th>3</th>\n",
       "      <th>4</th>\n",
       "      <th>5</th>\n",
       "    </tr>\n",
       "    <tr>\n",
       "      <th>y_pred</th>\n",
       "      <th></th>\n",
       "      <th></th>\n",
       "      <th></th>\n",
       "      <th></th>\n",
       "      <th></th>\n",
       "    </tr>\n",
       "  </thead>\n",
       "  <tbody>\n",
       "    <tr>\n",
       "      <th>1</th>\n",
       "      <td>597</td>\n",
       "      <td>6</td>\n",
       "      <td>0</td>\n",
       "      <td>114</td>\n",
       "      <td>1</td>\n",
       "    </tr>\n",
       "    <tr>\n",
       "      <th>2</th>\n",
       "      <td>237</td>\n",
       "      <td>955</td>\n",
       "      <td>188</td>\n",
       "      <td>267</td>\n",
       "      <td>81</td>\n",
       "    </tr>\n",
       "    <tr>\n",
       "      <th>3</th>\n",
       "      <td>92</td>\n",
       "      <td>25</td>\n",
       "      <td>785</td>\n",
       "      <td>462</td>\n",
       "      <td>167</td>\n",
       "    </tr>\n",
       "    <tr>\n",
       "      <th>4</th>\n",
       "      <td>34</td>\n",
       "      <td>11</td>\n",
       "      <td>16</td>\n",
       "      <td>109</td>\n",
       "      <td>29</td>\n",
       "    </tr>\n",
       "    <tr>\n",
       "      <th>5</th>\n",
       "      <td>40</td>\n",
       "      <td>3</td>\n",
       "      <td>11</td>\n",
       "      <td>48</td>\n",
       "      <td>722</td>\n",
       "    </tr>\n",
       "  </tbody>\n",
       "</table>\n",
       "</div>"
      ],
      "text/plain": [
       "y_truth    1    2    3    4    5\n",
       "y_pred                          \n",
       "1        597    6    0  114    1\n",
       "2        237  955  188  267   81\n",
       "3         92   25  785  462  167\n",
       "4         34   11   16  109   29\n",
       "5         40    3   11   48  722"
      ]
     },
     "metadata": {},
     "output_type": "display_data"
    }
   ],
   "source": [
    "confusion_matrix_test = pd.crosstab(y_pred_test, y_test, rownames = [\"y_pred\"], colnames = [\"y_truth\"])\n",
    "\n",
    "print(\"Confusion Matrix - Test Set:\")\n",
    "display(confusion_matrix_test)"
   ]
  }
 ],
 "metadata": {
  "kernelspec": {
   "display_name": "Python 3",
   "language": "python",
   "name": "python3"
  },
  "language_info": {
   "codemirror_mode": {
    "name": "ipython",
    "version": 3
   },
   "file_extension": ".py",
   "mimetype": "text/x-python",
   "name": "python",
   "nbconvert_exporter": "python",
   "pygments_lexer": "ipython3",
   "version": "3.8.8"
  }
 },
 "nbformat": 4,
 "nbformat_minor": 5
}

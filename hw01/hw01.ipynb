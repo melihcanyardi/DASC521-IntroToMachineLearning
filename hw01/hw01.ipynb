{
 "cells": [
  {
   "cell_type": "markdown",
   "id": "677844d8",
   "metadata": {},
   "source": [
    "# Homework 01: Multivariate Parametric Classification"
   ]
  },
  {
   "cell_type": "code",
   "execution_count": 1,
   "id": "5bb6bf68",
   "metadata": {},
   "outputs": [],
   "source": [
    "import numpy as np\n",
    "import matplotlib.pyplot as plt\n",
    "import pandas as pd\n",
    "\n",
    "%matplotlib inline"
   ]
  },
  {
   "cell_type": "markdown",
   "id": "f4fe6217",
   "metadata": {},
   "source": [
    "## Generating Random Points"
   ]
  },
  {
   "cell_type": "code",
   "execution_count": 2,
   "id": "0a09db5e",
   "metadata": {},
   "outputs": [],
   "source": [
    "np.random.seed(421)\n",
    "\n",
    "data_1 = np.random.multivariate_normal(mean=np.array([+0.0, +2.5]), cov=np.array([[+3.2, +0.0], [+0.0, +1.2]]), size=120)\n",
    "data_2 = np.random.multivariate_normal(mean=np.array([-2.5, -2.0]), cov=np.array([[+1.2, +0.8], [+0.8, +1.2]]), size=80)\n",
    "data_3 = np.random.multivariate_normal(mean=np.array([+2.5, -2.0]), cov=np.array([[+1.2, -0.8], [-0.8, +1.2]]), size=100)\n",
    "\n",
    "X = np.vstack([data_1, data_2, data_3]) # data matrix\n",
    "y = np.concatenate([np.repeat(1, data_1.shape[0]), np.repeat(2, data_2.shape[0]), np.repeat(3, data_3.shape[0])])"
   ]
  },
  {
   "cell_type": "code",
   "execution_count": 3,
   "id": "5340ac96",
   "metadata": {},
   "outputs": [
    {
     "data": {
      "image/png": "[encoded data removed]",
      "text/plain": [
       "<Figure size 720x720 with 1 Axes>"
      ]
     },
     "metadata": {
      "needs_background": "light"
     },
     "output_type": "display_data"
    }
   ],
   "source": [
    "plt.figure(figsize = (10, 10))\n",
    "plt.plot(data_1[:,0], data_1[:,1], 'ro')\n",
    "plt.plot(data_2[:,0], data_2[:,1], 'go')\n",
    "plt.plot(data_3[:,0], data_3[:,1], 'bo')\n",
    "plt.xlabel(\"$x_1$\", fontsize=15)\n",
    "plt.ylabel(\"$x_2$\", fontsize=15)\n",
    "plt.xlim(-6, +6)\n",
    "plt.ylim(-6, +6)\n",
    "plt.show()"
   ]
  },
  {
   "cell_type": "markdown",
   "id": "8a73765e",
   "metadata": {},
   "source": [
    "## Estimating the Parameters"
   ]
  },
  {
   "cell_type": "markdown",
   "id": "f888d0a7",
   "metadata": {},
   "source": [
    "### Sample Mean \n",
    "Sample mean, $\\textbf{m}: m_i =\\frac{\\sum_{t-1}^{N}x^t_i}{N}, i=1,...,d$"
   ]
  },
  {
   "cell_type": "code",
   "execution_count": 4,
   "id": "0e7433e6",
   "metadata": {},
   "outputs": [],
   "source": [
    "def estimate_sample_mean(data):\n",
    "    return [np.sum(data[:, i]) / data.shape[0] for i in range(data.shape[1])]"
   ]
  },
  {
   "cell_type": "code",
   "execution_count": 5,
   "id": "2383ec2f",
   "metadata": {},
   "outputs": [
    {
     "name": "stdout",
     "output_type": "stream",
     "text": [
      "[[ 0.04453807  2.61225128]\n",
      " [-2.65871583 -2.04611631]\n",
      " [ 2.56054453 -2.12492713]]\n"
     ]
    }
   ],
   "source": [
    "sample_means = np.array([estimate_sample_mean(data) for data in [data_1, data_2, data_3]])\n",
    "print(sample_means)"
   ]
  },
  {
   "cell_type": "markdown",
   "id": "2625c0ee",
   "metadata": {},
   "source": [
    "### Sample Covariance Matrix\n",
    "\n",
    "Sample covariance matrix, $\\textbf{S}: s_{ij} =\\frac{\\sum_{t-1}^{N}(x^t_i-m_i)(x_j^t-m_j)}{N}$"
   ]
  },
  {
   "cell_type": "code",
   "execution_count": 6,
   "id": "4cb06fda",
   "metadata": {},
   "outputs": [],
   "source": [
    "def estimate_covariance_matrix(data):\n",
    "    return np.array([\n",
    "        np.sum((data[:, 0] - estimate_sample_mean(data)[0]) * (data[:, 0] - estimate_sample_mean(data)[0])) / data.shape[0],\n",
    "        np.sum((data[:, 0] - estimate_sample_mean(data)[0]) * (data[:, 1] - estimate_sample_mean(data)[1])) / data.shape[0],\n",
    "        np.sum((data[:, 1] - estimate_sample_mean(data)[1]) * (data[:, 0] - estimate_sample_mean(data)[0])) / data.shape[0],\n",
    "        np.sum((data[:, 1] - estimate_sample_mean(data)[1]) * (data[:, 1] - estimate_sample_mean(data)[1])) / data.shape[0]\n",
    "    ]).reshape(2, 2)"
   ]
  },
  {
   "cell_type": "code",
   "execution_count": 7,
   "id": "d2524a4a",
   "metadata": {},
   "outputs": [
    {
     "name": "stdout",
     "output_type": "stream",
     "text": [
      "[[[ 2.81619317  0.22436503]\n",
      "  [ 0.22436503  1.00404699]]\n",
      "\n",
      " [[ 1.42028631  1.01066166]\n",
      "  [ 1.01066166  1.36103133]]\n",
      "\n",
      " [[ 1.40686631 -1.07838138]\n",
      "  [-1.07838138  1.5075388 ]]]\n"
     ]
    }
   ],
   "source": [
    "sample_covariances = np.array([estimate_covariance_matrix(data) for data in [data_1, data_2, data_3]])\n",
    "print(sample_covariances)"
   ]
  },
  {
   "cell_type": "markdown",
   "id": "59cf96d5",
   "metadata": {},
   "source": [
    "### Prior Probabilities\n",
    "\n",
    "$\\hat{P}(C_i) = \\frac{\\sum_t{r_i^t}}{N}$"
   ]
  },
  {
   "cell_type": "code",
   "execution_count": 8,
   "id": "0209c013",
   "metadata": {},
   "outputs": [],
   "source": [
    "def prior_probability(data, X):\n",
    "    return data.shape[0] / X.shape[0]"
   ]
  },
  {
   "cell_type": "code",
   "execution_count": 9,
   "id": "8b168aff",
   "metadata": {},
   "outputs": [
    {
     "name": "stdout",
     "output_type": "stream",
     "text": [
      "[0.4, 0.26666666666666666, 0.3333333333333333]\n"
     ]
    }
   ],
   "source": [
    "class_priors = [prior_probability(data, X) for data in [data_1, data_2, data_3]]\n",
    "print(class_priors)"
   ]
  },
  {
   "cell_type": "markdown",
   "id": "cb2df460",
   "metadata": {},
   "source": [
    "## Calculating Confusion Matrix"
   ]
  },
  {
   "cell_type": "markdown",
   "id": "0907f73f",
   "metadata": {},
   "source": [
    "### Quadratic Discriminant\n",
    "\n",
    "Score function: $ g_i(\\textbf{x}) = -\\frac{1}{2}log|\\textbf{S}_i|-\\frac{1}{2}(\\textbf{x}-\\textbf{m}_i)^T\\textbf{S}_i^{-1}(\\textbf{x}-\\textbf{m}_i)+log\\hat{P}(C_i)$"
   ]
  },
  {
   "cell_type": "code",
   "execution_count": 10,
   "id": "bf4f8ada",
   "metadata": {},
   "outputs": [],
   "source": [
    "def quadratic_discriminant(x, sample_covariance, sample_mean, class_prior):\n",
    "    return - (1/2 * np.log(np.linalg.det(sample_covariance))) - (1/2 * ((x - sample_mean) @ np.linalg.inv(sample_covariance) @ (x - sample_mean).T)) + (np.log(class_prior))"
   ]
  },
  {
   "cell_type": "markdown",
   "id": "680d6050",
   "metadata": {},
   "source": [
    "### Algorithm\n",
    "\n",
    "Calculate scores of x's for each class. Pick the class with the highest score."
   ]
  },
  {
   "cell_type": "code",
   "execution_count": 11,
   "id": "db2998fe",
   "metadata": {},
   "outputs": [],
   "source": [
    "def predict(x):\n",
    "    g1 = quadratic_discriminant(x, sample_covariances[0], sample_means[0], class_priors[0])\n",
    "    g2 = quadratic_discriminant(x, sample_covariances[1], sample_means[1], class_priors[1])\n",
    "    g3 = quadratic_discriminant(x, sample_covariances[2], sample_means[2], class_priors[2])\n",
    "    \n",
    "    if g1 > g2 and g1 > g3:\n",
    "        return 1\n",
    "    elif g2 > g1 and g2 > g3:\n",
    "        return 2\n",
    "    else:\n",
    "        return 3"
   ]
  },
  {
   "cell_type": "code",
   "execution_count": 12,
   "id": "8fcf79f0",
   "metadata": {},
   "outputs": [],
   "source": [
    "y_pred = np.array([predict(x) for x in X])"
   ]
  },
  {
   "cell_type": "markdown",
   "id": "20e55b71",
   "metadata": {},
   "source": [
    "### Confusion Matrix"
   ]
  },
  {
   "cell_type": "code",
   "execution_count": 13,
   "id": "62eac5cc",
   "metadata": {},
   "outputs": [
    {
     "data": {
      "text/html": [
       "<div>\n",
       "<style scoped>\n",
       "    .dataframe tbody tr th:only-of-type {\n",
       "        vertical-align: middle;\n",
       "    }\n",
       "\n",
       "    .dataframe tbody tr th {\n",
       "        vertical-align: top;\n",
       "    }\n",
       "\n",
       "    .dataframe thead th {\n",
       "        text-align: right;\n",
       "    }\n",
       "</style>\n",
       "<table border=\"1\" class=\"dataframe\">\n",
       "  <thead>\n",
       "    <tr style=\"text-align: right;\">\n",
       "      <th>y_truth</th>\n",
       "      <th>1</th>\n",
       "      <th>2</th>\n",
       "      <th>3</th>\n",
       "    </tr>\n",
       "    <tr>\n",
       "      <th>y_pred</th>\n",
       "      <th></th>\n",
       "      <th></th>\n",
       "      <th></th>\n",
       "    </tr>\n",
       "  </thead>\n",
       "  <tbody>\n",
       "    <tr>\n",
       "      <th>1</th>\n",
       "      <td>118</td>\n",
       "      <td>1</td>\n",
       "      <td>1</td>\n",
       "    </tr>\n",
       "    <tr>\n",
       "      <th>2</th>\n",
       "      <td>1</td>\n",
       "      <td>78</td>\n",
       "      <td>1</td>\n",
       "    </tr>\n",
       "    <tr>\n",
       "      <th>3</th>\n",
       "      <td>1</td>\n",
       "      <td>1</td>\n",
       "      <td>98</td>\n",
       "    </tr>\n",
       "  </tbody>\n",
       "</table>\n",
       "</div>"
      ],
      "text/plain": [
       "y_truth    1   2   3\n",
       "y_pred              \n",
       "1        118   1   1\n",
       "2          1  78   1\n",
       "3          1   1  98"
      ]
     },
     "metadata": {},
     "output_type": "display_data"
    }
   ],
   "source": [
    "confusion_matrix = pd.crosstab(y_pred, y, rownames = [\"y_pred\"], colnames = [\"y_truth\"])\n",
    "display(confusion_matrix)"
   ]
  },
  {
   "cell_type": "markdown",
   "id": "7bcc1784",
   "metadata": {},
   "source": [
    "## Drawing Decision Boundaries"
   ]
  },
  {
   "cell_type": "markdown",
   "id": "103c9c67",
   "metadata": {},
   "source": [
    "### Quadratic Discriminant\n",
    "\n",
    "$g_i(x) = x^TW_ix + w_i^Tx + w_{i0}$\n",
    "\n",
    "where\n",
    "\n",
    "$\\newline$\n",
    "$ W_i = -\\frac{1}{2}S_i^{-1}$\n",
    "\n",
    "$ w_i = S_i^{-1}m_i$\n",
    "\n",
    "$ w_{i0} = -\\frac{1}{2}m_i^TS_i^{-1}m_i -\\frac{1}{2}log|S_i| + log\\hat{P}(C_i)$"
   ]
  },
  {
   "cell_type": "code",
   "execution_count": 14,
   "id": "41f0bfa5",
   "metadata": {},
   "outputs": [],
   "source": [
    "def Wi(sample_covariance):\n",
    "    return -1/2 * np.linalg.inv(sample_covariance)"
   ]
  },
  {
   "cell_type": "code",
   "execution_count": 15,
   "id": "9dbb1322",
   "metadata": {},
   "outputs": [
    {
     "name": "stdout",
     "output_type": "stream",
     "text": [
      "W1:\n",
      "[[-0.18076276  0.04039337]\n",
      " [ 0.04039337 -0.50701099]]\n",
      "\n",
      "W2:\n",
      "[[-0.74649281  0.55432351]\n",
      " [ 0.55432351 -0.77899274]]\n",
      "\n",
      "W3:\n",
      "[[-0.78681636 -0.56283003]\n",
      " [-0.56283003 -0.73427326]]\n"
     ]
    }
   ],
   "source": [
    "W1, W2, W3 = [Wi(sample_covariance) for sample_covariance in sample_covariances]\n",
    "\n",
    "print(f\"W1:\\n{W1}\\n\")\n",
    "print(f\"W2:\\n{W2}\\n\")\n",
    "print(f\"W3:\\n{W3}\")"
   ]
  },
  {
   "cell_type": "code",
   "execution_count": 16,
   "id": "67b28daa",
   "metadata": {},
   "outputs": [],
   "source": [
    "def wi(sample_covariance, sample_mean):\n",
    "    return np.linalg.inv(sample_covariance) @ sample_mean"
   ]
  },
  {
   "cell_type": "code",
   "execution_count": 17,
   "id": "b9842bcd",
   "metadata": {},
   "outputs": [
    {
     "name": "stdout",
     "output_type": "stream",
     "text": [
      "w1:\n",
      "[-0.19493362  2.64528214]\n",
      "\n",
      "w2:\n",
      "[-1.70100375 -0.2402421 ]\n",
      "\n",
      "w3:\n",
      "[ 1.63741104 -0.23825162]\n"
     ]
    }
   ],
   "source": [
    "w1, w2, w3 = [wi(sample_covariance, sample_mean) for sample_covariance, sample_mean in zip(sample_covariances, sample_means)]\n",
    "\n",
    "print(f\"w1:\\n{w1}\\n\")\n",
    "print(f\"w2:\\n{w2}\\n\")\n",
    "print(f\"w3:\\n{w3}\")"
   ]
  },
  {
   "cell_type": "code",
   "execution_count": 18,
   "id": "9f100e64",
   "metadata": {},
   "outputs": [],
   "source": [
    "def wi0(sample_covariance, sample_mean, class_prior):\n",
    "    return - (1/2 * (sample_mean.T @ np.linalg.inv(sample_covariance) @ sample_mean)) - (1/2 * np.log(np.linalg.det(sample_covariance))) + np.log(class_prior)"
   ]
  },
  {
   "cell_type": "code",
   "execution_count": 19,
   "id": "d56786b9",
   "metadata": {},
   "outputs": [
    {
     "name": "stdout",
     "output_type": "stream",
     "text": [
      "w10:\n",
      "-4.877751288835391\n",
      "\n",
      "w20:\n",
      "-3.782512703335696\n",
      "\n",
      "w30:\n",
      "-3.4266236948916866\n"
     ]
    }
   ],
   "source": [
    "w10, w20, w30 = [wi0(sample_covariance, sample_mean, class_prior) for sample_covariance, sample_mean, class_prior in zip(sample_covariances, sample_means, class_priors)]\n",
    "\n",
    "print(f\"w10:\\n{w10}\\n\")\n",
    "print(f\"w20:\\n{w20}\\n\")\n",
    "print(f\"w30:\\n{w30}\")"
   ]
  },
  {
   "cell_type": "code",
   "execution_count": 20,
   "id": "f64dd459",
   "metadata": {},
   "outputs": [],
   "source": [
    "x1_interval = np.linspace(-6, +6, 1200)\n",
    "x2_interval = np.linspace(-6, +6, 1200)\n",
    "x1_grid, x2_grid = np.meshgrid(x1_interval, x2_interval)"
   ]
  },
  {
   "cell_type": "code",
   "execution_count": 21,
   "id": "27f646e6",
   "metadata": {},
   "outputs": [],
   "source": [
    "discriminant_values_1 = (x1_grid * W1[0, 0] * x1_grid.T) + (x1_grid * W1[0, 1] * x1_grid.T) + (x2_grid * W1[1, 0] * x2_grid.T) + (x2_grid * W1[1, 1] * x2_grid.T) + (w1[0] * x1_grid) + (w1[1] * x2_grid) + w10\n",
    "discriminant_values_2 = (x1_grid * W2[0, 0] * x1_grid.T) + (x1_grid * W2[0, 1] * x1_grid.T) + (x2_grid * W2[1, 0] * x2_grid.T) + (x2_grid * W2[1, 1] * x2_grid.T) + (w2[0] * x1_grid) + (w2[1] * x2_grid) + w20\n",
    "discriminant_values_3 = (x1_grid * W3[0, 0] * x1_grid.T) + (x1_grid * W3[0, 1] * x1_grid.T) + (x2_grid * W3[1, 0] * x2_grid.T) + (x2_grid * W3[1, 1] * x2_grid.T) + (w3[0] * x1_grid) + (w3[1] * x2_grid) + w30"
   ]
  },
  {
   "cell_type": "code",
   "execution_count": 22,
   "id": "7c0a649a",
   "metadata": {},
   "outputs": [
    {
     "data": {
      "image/png": "[encoded data removed]",
      "text/plain": [
       "<Figure size 720x720 with 1 Axes>"
      ]
     },
     "metadata": {
      "needs_background": "light"
     },
     "output_type": "display_data"
    }
   ],
   "source": [
    "plt.figure(figsize = (10, 10))\n",
    "plt.plot(X[y == 1, 0], X[y == 1, 1], \"ro\")\n",
    "plt.plot(X[y == 2, 0], X[y == 2, 1], \"bo\")\n",
    "plt.plot(X[y == 3, 0], X[y == 3, 1], \"go\")\n",
    "plt.plot(X[y_pred != y, 0], X[y_pred != y, 1], \"ko\", markersize = 12, fillstyle = \"none\")\n",
    "plt.contour(x1_grid, x2_grid, discriminant_values_1, levels = 0, colors = \"k\")\n",
    "plt.contour(x1_grid, x2_grid, discriminant_values_2, levels = 0, colors = \"k\")\n",
    "plt.contour(x1_grid, x2_grid, discriminant_values_3, levels = 0, colors = \"k\")\n",
    "plt.xlabel(\"$x_1$\", fontsize=15)\n",
    "plt.ylabel(\"$x_2$\", fontsize=15)\n",
    "\n",
    "plt.show()"
   ]
  },
  {
   "cell_type": "code",
   "execution_count": 23,
   "id": "95458a28",
   "metadata": {},
   "outputs": [],
   "source": [
    "discriminant_values_1 = (w1[0] * x1_grid) + (w1[1] * x2_grid) + w10\n",
    "discriminant_values_2 = (w2[0] * x1_grid) + (w2[1] * x2_grid) + w20\n",
    "discriminant_values_3 = (w3[0] * x1_grid) + (w3[1] * x2_grid) + w30"
   ]
  },
  {
   "cell_type": "code",
   "execution_count": 24,
   "id": "ff5bea30",
   "metadata": {},
   "outputs": [
    {
     "data": {
      "image/png": "[encoded data removed]",
      "text/plain": [
       "<Figure size 720x720 with 1 Axes>"
      ]
     },
     "metadata": {
      "needs_background": "light"
     },
     "output_type": "display_data"
    }
   ],
   "source": [
    "plt.figure(figsize = (10, 10))\n",
    "plt.plot(X[y == 1, 0], X[y == 1, 1], \"ro\")\n",
    "plt.plot(X[y == 2, 0], X[y == 2, 1], \"bo\")\n",
    "plt.plot(X[y == 3, 0], X[y == 3, 1], \"go\")\n",
    "plt.plot(X[y_pred != y, 0], X[y_pred != y, 1], \"ko\", markersize = 12, fillstyle = \"none\")\n",
    "plt.contour(x1_grid, x2_grid, discriminant_values_1, levels = 0, colors = \"k\")\n",
    "plt.contour(x1_grid, x2_grid, discriminant_values_2, levels = 0, colors = \"k\")\n",
    "plt.contour(x1_grid, x2_grid, discriminant_values_3, levels = 0, colors = \"k\")\n",
    "plt.xlabel(\"$x_1$\", fontsize=15)\n",
    "plt.ylabel(\"$x_2$\", fontsize=15)\n",
    "\n",
    "plt.show()"
   ]
  }
 ],
 "metadata": {
  "kernelspec": {
   "display_name": "Python 3",
   "language": "python",
   "name": "python3"
  },
  "language_info": {
   "codemirror_mode": {
    "name": "ipython",
    "version": 3
   },
   "file_extension": ".py",
   "mimetype": "text/x-python",
   "name": "python",
   "nbconvert_exporter": "python",
   "pygments_lexer": "ipython3",
   "version": "3.8.8"
  }
 },
 "nbformat": 4,
 "nbformat_minor": 5
}
